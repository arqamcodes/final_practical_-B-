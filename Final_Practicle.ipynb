{
  "nbformat": 4,
  "nbformat_minor": 0,
  "metadata": {
    "colab": {
      "provenance": []
    },
    "kernelspec": {
      "name": "python3",
      "display_name": "Python 3"
    },
    "language_info": {
      "name": "python"
    }
  },
  "cells": [
    {
      "cell_type": "code",
      "execution_count": null,
      "metadata": {
        "colab": {
          "base_uri": "https://localhost:8080/"
        },
        "id": "kZutOxq7NeFn",
        "outputId": "a5a174df-936d-4ca8-9c98-7f290bc84cf1"
      },
      "outputs": [
        {
          "output_type": "stream",
          "name": "stdout",
          "text": [
            "   rollno  gender  math_score  english_score  hours passed\n",
            "0       2  Female          65             49   11.4    Yes\n",
            "1       3    Male          83             77    6.4    Yes\n",
            "2       4    Male          73             63   12.0    Yes\n",
            "3       5    Male          49             70    7.1    Yes\n",
            "4       6  Female          75             47   12.4    Yes\n"
          ]
        }
      ],
      "source": [
        "#PRCATICAL\"B\"\n",
        "#PART A\n",
        "import pandas as pd\n",
        "\n",
        "# Load file\n",
        "df = pd.read_csv('student_performance.csv')\n",
        "\n",
        "# giving  column names on the given  structure\n",
        "df.columns = ['hours', 'math_score', 'passed', 'gender', 'rollno', 'english_score']\n",
        "#justifications: choosing first coloumn as hours because the value 11.4 and 15.6 are seemed to be hours, the gender is choosen on the basis of male and female similar maths and english marks are being choosen, the passed coloumn is based on binary classification yes and no.\n",
        "# now arranging them the order iven in the question paper\n",
        "df = df[['rollno', 'gender', 'math_score', 'english_score', 'hours', 'passed']]\n",
        "# display\n",
        "print(df.head())\n"
      ]
    },
    {
      "cell_type": "code",
      "source": [
        "#part B\n",
        "# Creating efficiency column using the given formula\n",
        "df['efficiency'] = (df['math_score'] + df['english_score']) / df['hours']\n",
        "print(df.head())\n",
        "\n",
        "#  Q1 and Q3 for efficiency\n",
        "Q1 = df['efficiency'].quantile(0.25)\n",
        "Q3 = df['efficiency'].quantile(0.75)\n",
        "IQR = Q3 - Q1\n",
        "\n",
        "# boundary values using formula\n",
        "lb = Q1 - 1.5 * IQR\n",
        "ub = Q3 + 1.5 * IQR\n",
        "\n",
        "# coloumns having no outliers\n",
        "df_no_outliers = df[(df['efficiency'] >= lb) & (df['efficiency'] <= ub)]\n",
        "\n",
        "rows_removed = df.shape[0] - df_no_outliers.shape[0]\n",
        "print(\"Number of rows removed:\", rows_removed)\n",
        "\n",
        "\n",
        "\n",
        "\n"
      ],
      "metadata": {
        "colab": {
          "base_uri": "https://localhost:8080/"
        },
        "id": "xU44YaqlPdnJ",
        "outputId": "56ac851d-65fe-426c-f293-3bc4e6836018"
      },
      "execution_count": null,
      "outputs": [
        {
          "output_type": "stream",
          "name": "stdout",
          "text": [
            "   rollno  gender  math_score  english_score  hours passed  efficiency\n",
            "0       2  Female          65             49   11.4    Yes   10.000000\n",
            "1       3    Male          83             77    6.4    Yes   25.000000\n",
            "2       4    Male          73             63   12.0    Yes   11.333333\n",
            "3       5    Male          49             70    7.1    Yes   16.760563\n",
            "4       6  Female          75             47   12.4    Yes    9.838710\n",
            "new DataFrame\n"
          ]
        }
      ]
    },
    {
      "cell_type": "code",
      "source": [
        "#part D\n",
        "import seaborn as sns\n",
        "import matplotlib.pyplot as plt\n",
        "\n",
        "# Create a box plot of efficiency grouped by gender\n",
        "sns.boxplot(x='gender', y='efficiency', data=df)\n",
        "plt.title('Efficienc box plot')\n",
        "plt.xlabel('Gender')\n",
        "plt.ylabel('Efficiency')\n",
        "plt.show()\n"
      ],
      "metadata": {
        "colab": {
          "base_uri": "https://localhost:8080/",
          "height": 472
        },
        "id": "8ZcDYa4WRkaL",
        "outputId": "35f11c8a-5b64-4673-a082-b68258e049b5"
      },
      "execution_count": null,
      "outputs": [
        {
          "output_type": "display_data",
          "data": {
            "text/plain": [
              "<Figure size 640x480 with 1 Axes>"
            ],
            "image/png": "[encoded data removed]"
          },
          "metadata": {}
        }
      ]
    },
    {
      "cell_type": "markdown",
      "source": [
        "the higher box of female shows the greater variation in the female data then the males data.\n",
        "since we removed the outliers we got no outliers in the box plot\n",
        "the line shows the median of both male and female.\n"
      ],
      "metadata": {
        "id": "IWNhBQzDSuYW"
      }
    },
    {
      "cell_type": "code",
      "source": [
        "#part c\n",
        "import scipy.stats as stats\n",
        "df_new=pd.crosstab(df['passed'],df['gender'])\n",
        "print(df_new)\n",
        "#Observed Values\n",
        "Observed_Values = df_new.values\n",
        "print(\"Observed Values:\",Observed_Values)\n",
        "\n",
        "chi2, p_value, degrees_of_freedom, expected_values = stats.chi2_contingency(Observed_Values)\n",
        "print(chi2, p_value, degrees_of_freedom, expected_values)\n",
        "if p_value < 0.05:\n",
        "    print(\" there is realtionship\")\n",
        "else:\n",
        "    print(\"there is no relationship\")"
      ],
      "metadata": {
        "colab": {
          "base_uri": "https://localhost:8080/"
        },
        "id": "MDTKlH05Zl06",
        "outputId": "79ce2bc6-e15a-42e1-e32a-496fd8b22957"
      },
      "execution_count": 9,
      "outputs": [
        {
          "output_type": "stream",
          "name": "stdout",
          "text": [
            "gender  Female  Male\n",
            "passed              \n",
            "No          14     7\n",
            "Yes         42    36\n",
            "Observed Values: [[14  7]\n",
            " [42 36]]\n",
            "0.646569014457304 0.42134202386789776 1 [[11.87878788  9.12121212]\n",
            " [44.12121212 33.87878788]]\n",
            "there is no relationship\n"
          ]
        }
      ]
    }
  ]
}